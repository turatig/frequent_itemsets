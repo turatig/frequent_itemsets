{
  "nbformat": 4,
  "nbformat_minor": 5,
  "metadata": {
    "kernelspec": {
      "display_name": "Python 3",
      "language": "python",
      "name": "python3"
    },
    "language_info": {
      "codemirror_mode": {
        "name": "ipython",
        "version": 3
      },
      "file_extension": ".py",
      "mimetype": "text/x-python",
      "name": "python",
      "nbconvert_exporter": "python",
      "pygments_lexer": "ipython3",
      "version": "3.7.3"
    },
    "colab": {
      "name": "frequent_itemsets.ipynb",
      "provenance": [],
      "collapsed_sections": [],
      "include_colab_link": true
    }
  },
  "cells": [
    {
      "cell_type": "markdown",
      "metadata": {
        "id": "view-in-github",
        "colab_type": "text"
      },
      "source": [
        "<a href=\"https://colab.research.google.com/github/turatig/frequent_itemsets/blob/master/frequent_itemsets.ipynb\" target=\"_parent\"><img src=\"https://colab.research.google.com/assets/colab-badge.svg\" alt=\"Open In Colab\"/></a>"
      ]
    },
    {
      "cell_type": "markdown",
      "metadata": {
        "id": "J00vwdMle-Nx"
      },
      "source": [
        "**MARKET BASKET ANALYSIS NOTEBOOK**"
      ],
      "id": "J00vwdMle-Nx"
    },
    {
      "cell_type": "markdown",
      "metadata": {
        "id": "LOVdeW-efZ3z"
      },
      "source": [
        "Dowload and preprocess dataset"
      ],
      "id": "LOVdeW-efZ3z"
    },
    {
      "cell_type": "code",
      "metadata": {
        "id": "22ba4125",
        "colab": {
          "base_uri": "https://localhost:8080/"
        },
        "outputId": "01b05272-84ef-4688-b590-b568efdee929"
      },
      "source": [
        "!pip install kaggle\n",
        "\n",
        "\n",
        "import os,sys,time,zipfile,json,re\n",
        "import functools as ft\n",
        "import itertools as it\n",
        "from datetime import datetime as dt\n",
        "\n",
        "os.environ['KAGGLE_USERNAME']='giacomoturati1'\n",
        "os.environ['KAGGLE_KEY']='7d34a1aefc3558065164b70c24ce27ed'\n",
        "\n",
        "from kaggle.api.kaggle_api_extended import KaggleApi\n",
        "\n",
        "def get_dataset():\n",
        "\n",
        "  #execute only if the dataset was not already downloaded\n",
        "  if 'old-newspaper.tsv' not in os.listdir():\n",
        "    api=KaggleApi()\n",
        "    api.authenticate()\n",
        "\n",
        "    api.dataset_download_file('alvations/old-newspapers','old-newspaper.tsv')\n",
        "\n",
        "    with zipfile.ZipFile('old-newspaper.tsv.zip','r') as _zip:\n",
        "      _zip.extractall()\n",
        "\n",
        "#Yield baskets (list of lists) reading from tsv\n",
        "#languages: subset of languages to be considered during the market-basket analysis\n",
        "def read_dataset_from_tsv(languages=None,max_basket=-1):\n",
        "  count=0\n",
        "  with open('old-newspaper.tsv','r') as f:\n",
        "    #skip header line\n",
        "    next(f)\n",
        "    for line in f:\n",
        "      l=line.split('\\t')\n",
        "      if languages is not None and l[0] not in languages: continue\n",
        "\n",
        "      #get a list of words as basket skipping any sequence of non-alphabetical characters\n",
        "      basket=re.split(r'[^a-zA-Z]+',l[3])\n",
        "      #remove any empty string\n",
        "      basket=[word.lower() for word in basket if word!='']\n",
        "      count+=1\n",
        "      yield basket\n",
        "\n",
        "      if max_basket>0 and count>=max_basket: break\n",
        "      \n",
        "    f.close()\n",
        "\n",
        "#Create json wich contains an array of baskets (lists of words)\n",
        "def create_test_json_dataset(languages=None,max_basket=None):\n",
        "  baskets=[]\n",
        "\n",
        "  #execute only if the dataset was not already created\n",
        "  for line in read_dataset_from_tsv(languages,max_basket):\n",
        "    baskets.append(line)\n",
        "\n",
        "  filename=ft.reduce(lambda i,j:i+'_'+j,languages).lower() if languages is not None else 'all_languages' \n",
        "  filename+=str(len(baskets))+'.json'\n",
        "\n",
        "  with open(filename,'w') as f:\n",
        "    f.write(json.dumps(baskets,indent='\\t'))\n",
        "    f.close()\n",
        "  \n",
        "  \n",
        "\n",
        "#Yield baskets from json structures as array of arrays\n",
        "def iter_baskets_from_json(filename,max_basket=-1):\n",
        "  theres_next=True\n",
        "  basket=[]\n",
        "  count=0\n",
        "\n",
        "  with open(filename,'r') as f:\n",
        "    #skip first square braket\n",
        "    next(f)\n",
        "    for line in f:\n",
        "\n",
        "      m=re.search(r'[a-zA-Z]+|\\[|\\]',line)\n",
        "      line=line[m.start():m.end()]\n",
        "\n",
        "      if line=='[': \n",
        "        basket=[]\n",
        "        theres_next=True\n",
        "\n",
        "      elif line==']':\n",
        "        if theres_next:\n",
        "          theres_next=False\n",
        "          yield basket\n",
        "          count+=1\n",
        "          if max_basket>0 and count>=max_basket:break\n",
        "\n",
        "      else: basket.append(line)\n",
        "    \n",
        "    f.close()\n",
        "\n",
        "#Just to iterate agnostically over basket file\n",
        "def iter_baskets(basket_file,max_basket=-1):\n",
        "  if callable(basket_file):\n",
        "    for basket in basket_file(max_basket): yield basket\n",
        "  else:\n",
        "    count=0\n",
        "    for basket in basket_file:\n",
        "      yield basket\n",
        "      count+=1\n",
        "      if max_basket>0 and count>=max_basket: break \n",
        "\n",
        "    \n",
        "\n",
        "\n",
        "get_dataset()\n",
        "create_test_json_dataset(['Italian'],300)\n",
        "\n",
        "\n"
      ],
      "id": "22ba4125",
      "execution_count": 1,
      "outputs": [
        {
          "output_type": "stream",
          "text": [
            "Requirement already satisfied: kaggle in /usr/local/lib/python3.7/dist-packages (1.5.12)\n",
            "Requirement already satisfied: urllib3 in /usr/local/lib/python3.7/dist-packages (from kaggle) (1.24.3)\n",
            "Requirement already satisfied: certifi in /usr/local/lib/python3.7/dist-packages (from kaggle) (2020.12.5)\n",
            "Requirement already satisfied: tqdm in /usr/local/lib/python3.7/dist-packages (from kaggle) (4.41.1)\n",
            "Requirement already satisfied: requests in /usr/local/lib/python3.7/dist-packages (from kaggle) (2.23.0)\n",
            "Requirement already satisfied: python-dateutil in /usr/local/lib/python3.7/dist-packages (from kaggle) (2.8.1)\n",
            "Requirement already satisfied: six>=1.10 in /usr/local/lib/python3.7/dist-packages (from kaggle) (1.15.0)\n",
            "Requirement already satisfied: python-slugify in /usr/local/lib/python3.7/dist-packages (from kaggle) (5.0.2)\n",
            "Requirement already satisfied: chardet<4,>=3.0.2 in /usr/local/lib/python3.7/dist-packages (from requests->kaggle) (3.0.4)\n",
            "Requirement already satisfied: idna<3,>=2.5 in /usr/local/lib/python3.7/dist-packages (from requests->kaggle) (2.10)\n",
            "Requirement already satisfied: text-unidecode>=1.3 in /usr/local/lib/python3.7/dist-packages (from python-slugify->kaggle) (1.3)\n"
          ],
          "name": "stdout"
        }
      ]
    },
    {
      "cell_type": "markdown",
      "metadata": {
        "id": "TqnHG1Eppe9F"
      },
      "source": [
        "Utilities to log the execution"
      ],
      "id": "TqnHG1Eppe9F"
    },
    {
      "cell_type": "code",
      "metadata": {
        "id": "wDz4lLPYfJMc"
      },
      "source": [
        "def sizeof_GB(obj): return \"%f\"%(sys.getsizeof(obj)/1000000000)\n",
        "\n",
        "#decorator to log time execution of function/method\n",
        "def time_it(f):\n",
        "  def _wrap(*args,**kwargs):\n",
        "    start=time.time()\n",
        "    res=f(*args,**kwargs)\n",
        "    stop=time.time()\n",
        "    \n",
        "    print('\\n'+'-'*30)\n",
        "    print('Function {0} executed in {1} seconds'.format(f.__name__,stop-start))\n",
        "    print('-'*30+'\\n')\n",
        "    return res\n",
        "  return _wrap\n",
        "\n",
        "#decorator to log the memory space used before and after a candidate itemset filtering operation\n",
        "def log_filter(f):\n",
        "  def _wrap(*args,**kwargs):\n",
        "    if len(args)>0:\n",
        "      print('Total number of candidate {0}-itemsets: {1}\\nSize in GB: {2}'.\\\n",
        "            format(len(list(args[0].keys())[0]),len(args[0]),sizeof_GB(args[0])))\n",
        "      \n",
        "    #argument was given by key=value\n",
        "    else:\n",
        "      print('Total number of candidate {0}-itemsets: {1}\\nSize in GB: {2}'.\\\n",
        "            format(len(list(kwargs['candidates'].keys())[0]),len(kwargs['candidates']),sizeof_GB(kwargs['candidates'])))\n",
        "    \n",
        "    res=f(*args,**kwargs)\n",
        "\n",
        "    if res:\n",
        "      print('Number of frequent {0}-itemsets: {1}\\nSize in GB: {2}'.\\\n",
        "              format(len(list(res.keys())[0]),len(res),sizeof_GB(res)))\n",
        "    else:\n",
        "      print('Number of frequent {0}-itemsets: {1}\\nSize in GB: {2}'.\\\n",
        "              format(0,0,0))\n",
        "    print('-'*30+'\\n')\n",
        "    return res\n",
        "\n",
        "  return _wrap\n",
        "\n",
        "#Dump on json file the result of an algorithm run\n",
        "def dump_result(algo,s,basket_count,freq_it_sets):\n",
        "  def remap(dic):\n",
        "    return {str(k):v for k,v in dic.items()}\n",
        "\n",
        "  header_info={'support_threshold':s,'total_n_baskets':basket_count}\n",
        "\n",
        "  filename=algo+'_market_basket_analysis_'+str(dt.today())[:10]+'_'+str(dt.today())[11:]+'.json'\n",
        "              \n",
        "  with open(filename,'w') as f:\n",
        "    f.write(json.dumps([header_info]+[remap(dic) for dic in freq_it_sets],indent='\\t'))\n",
        "    f.close()"
      ],
      "id": "wDz4lLPYfJMc",
      "execution_count": 36,
      "outputs": []
    },
    {
      "cell_type": "markdown",
      "metadata": {
        "id": "Ixo8_SLkdPOd"
      },
      "source": [
        "A-priori algorithm implementation"
      ],
      "id": "Ixo8_SLkdPOd"
    },
    {
      "cell_type": "code",
      "metadata": {
        "id": "P-0BQUe4z29F"
      },
      "source": [
        "\"\"\"\n",
        "  Filter candidate set of itemsets according to suppport threshold \n",
        "\"\"\"\n",
        "\"\"\"@log_filter\n",
        "@time_it\"\"\"\n",
        "def filter_ck(candidates,s):\n",
        "  return {k:v for k,v in candidates.items() if v>=s}\n",
        "\n",
        "\"\"\"\n",
        "  Discard unfrequent singletons from a basket\n",
        "\"\"\"\n",
        "def freq_sing(freq_it_sets,basket):\n",
        "  return [word for word in basket if (word,) in freq_it_sets[1]]\n",
        "\n",
        "\"\"\"\n",
        "  Check monotonicity property\n",
        "  kuple is a possible k-itemset -> all immediate subsets (k-1 itemsets) are frequent itemsets.\n",
        "\"\"\" \n",
        "def check_mono_prop(kuple,k,freq_it_sets):\n",
        "  return all([tuple(sorted(el)) in freq_it_sets[k-1] for el in it.combinations(kuple,r=k-1)])\n",
        "\n",
        "\"\"\"\n",
        "  Return candidate k-itemsets found after a basket_file pass\n",
        "\"\"\"\n",
        "\"\"\"@time_it\"\"\"  \n",
        "def apr_get_ck(basket_file,k,freq_it_sets,max_basket=-1):\n",
        "  basket_count=0\n",
        "  candidates=dict()\n",
        "\n",
        "  for basket in iter_baskets(basket_file,max_basket):\n",
        "    basket_count+=1\n",
        "    if k>2:\n",
        "      basket=freq_sing(freq_it_sets,basket)\n",
        "              \n",
        "    for kuple in it.combinations(basket,r=k):\n",
        "        #sort tuple in order to avoid duplication of the same itemset considered in different order\n",
        "        kuple=tuple(sorted(kuple))\n",
        "\n",
        "        if check_mono_prop(kuple,k,freq_it_sets):\n",
        "          if kuple not in candidates.keys(): candidates[kuple]=1\n",
        "          else: candidates[kuple]+=1\n",
        "\n",
        "  return candidates,basket_count\n",
        "\n",
        "\"\"\"\n",
        "  Apriori algorithm iteration\n",
        "  freq_it_sets:the k-1-th element is the set of frequent itemsets made of k elements\n",
        "\"\"\"\n",
        "def apriori(basket_file,s=0,max_basket=-1,max_k=-1,log=False):\n",
        "    freq_it_sets=[{tuple():1}]\n",
        "    k=1\n",
        "    #stop when no more frequent itemsets are found or k>max_k\n",
        "    while freq_it_sets[-1] and (max_k<0 or k<=max_k):\n",
        "\n",
        "      ck,basket_count=apr_get_ck(basket_file,k,freq_it_sets,max_basket)\n",
        "      if s<=0:\n",
        "        #set threshold to the 1% of the total number of baskets\n",
        "        s=basket_count//100\n",
        "      freq_it_sets.append(filter_ck(ck,s))\n",
        "      k+=1\n",
        "\n",
        "    if not freq_it_sets[-1]:\n",
        "      #remove the last element if empty\n",
        "      freq_it_sets=freq_it_sets[:-1]\n",
        "    \n",
        "    freq_it_sets=freq_it_sets[1:]\n",
        "    if log:dump_result(\"apriori\",s,basket_count,freq_it_sets)\n",
        "\n",
        "    return freq_it_sets\n",
        "    "
      ],
      "id": "P-0BQUe4z29F",
      "execution_count": 57,
      "outputs": []
    },
    {
      "cell_type": "code",
      "metadata": {
        "colab": {
          "base_uri": "https://localhost:8080/"
        },
        "id": "mtL-veBk1moc",
        "outputId": "c6e97f38-a9dc-47f4-fbdc-d01f5d4609fd"
      },
      "source": [
        "from functools import partial\n",
        "\n",
        "basket_file=partial(iter_baskets_from_json,'italian300.json')\n",
        "res=apriori(basket_file,s=260,max_k=3)\n"
      ],
      "id": "mtL-veBk1moc",
      "execution_count": 28,
      "outputs": [
        {
          "output_type": "stream",
          "text": [
            "8\n",
            "35\n",
            "111\n"
          ],
          "name": "stdout"
        }
      ]
    },
    {
      "cell_type": "markdown",
      "metadata": {
        "id": "wPimayhEg_Ue"
      },
      "source": [
        "PCY implementation"
      ],
      "id": "wPimayhEg_Ue"
    },
    {
      "cell_type": "code",
      "metadata": {
        "id": "8YqFThkXhL4l"
      },
      "source": [
        "!pip install -q bitmap\n",
        "from bitmap import BitMap\n",
        "\n",
        "#map a tuple to a bucket of a table of size=s\n",
        "def hash_tuple(t,s): return hash(t)%s\n",
        "def set_all(bm):\n",
        "  for i in bm.size():\n",
        "    bm.set(i)\n"
      ],
      "id": "8YqFThkXhL4l",
      "execution_count": 30,
      "outputs": []
    },
    {
      "cell_type": "code",
      "metadata": {
        "id": "rJotqhVRg-sG"
      },
      "source": [
        "\"\"\"\n",
        "  Return candidate k-itemsets found after a basket_file pass.\n",
        "  bm: bitmap of frequent buckets of couples\n",
        "\"\"\"\n",
        "\"\"\"@time_it\"\"\"  \n",
        "def pcy_get_ck(basket_file,k,freq_it_sets,bm,max_basket=-1):\n",
        "  basket_count=0\n",
        "  candidates=dict()\n",
        "  buckets=[0 for i in range(bm.size())]\n",
        "\n",
        "  for basket in iter_baskets(basket_file,max_basket):\n",
        "    basket_count+=1\n",
        "    if k>2:\n",
        "      basket=freq_sing(freq_it_sets,basket)\n",
        "              \n",
        "    for kuple in it.combinations(basket,r=k):\n",
        "        kuple=tuple(sorted(kuple))\n",
        "\n",
        "        #PCY variant: added constraint for couple -> must hash to a frequent bucket\n",
        "        if check_mono_prop(kuple,k,freq_it_sets) and (k!=2 or bm[hash_tuple(kuple,bm.size())]):\n",
        "          if kuple not in candidates.keys(): candidates[kuple]=1\n",
        "          else: candidates[kuple]+=1\n",
        "        \n",
        "    if k==1:\n",
        "      #PCY variant: during the first pass hash couples to buckets\n",
        "      for couple in it.combinations(basket,r=2):\n",
        "          buckets[hash_tuple(tuple(sorted(couple)),bm.size())]+=1\n",
        "\n",
        "  return candidates,basket_count,buckets\n",
        "\n",
        "\"\"\"\n",
        "  PCY algorithm iteration\n",
        "\"\"\"\n",
        "def pcy(basket_file,s=0,bm_size=256,max_basket=-1,max_k=-1,log=False):\n",
        "    freq_it_sets=[{tuple():1}]\n",
        "    bm=BitMap(bm_size)\n",
        "    k=1\n",
        "\n",
        "    while freq_it_sets[-1] and (max_k<0 or k<=max_k):\n",
        "      ck,basket_count,buckets=pcy_get_ck(basket_file,k,freq_it_sets,bm,max_basket)\n",
        "      if s<=0: s=basket_count//100\n",
        "      freq_it_sets.append(filter_ck(ck,s))\n",
        "\n",
        "      if k==1:\n",
        "        #PCY variant:set bit of frequent buckets in the bitmap\n",
        "        for i in range(len(buckets)):\n",
        "          if buckets[i]>=s: bm.set(i)\n",
        "      k+=1\n",
        "    \n",
        "    if not freq_it_sets[-1]:\n",
        "      #remove the last element if empty\n",
        "      freq_it_sets=freq_it_sets[-1]\n",
        "    \n",
        "    freq_it_sets=freq_it_sets[1:]\n",
        "    if log:dump_result(\"pcy\",s,basket_count,freq_it_sets)\n",
        "    \n",
        "    return freq_it_sets\n"
      ],
      "id": "rJotqhVRg-sG",
      "execution_count": 31,
      "outputs": []
    },
    {
      "cell_type": "code",
      "metadata": {
        "id": "3vymqKnQ1tGb"
      },
      "source": [
        "res=pcy(basket_file,max_k=3)"
      ],
      "id": "3vymqKnQ1tGb",
      "execution_count": 7,
      "outputs": []
    },
    {
      "cell_type": "markdown",
      "metadata": {
        "id": "iaHPR8RcpoeX"
      },
      "source": [
        "Spark installation"
      ],
      "id": "iaHPR8RcpoeX"
    },
    {
      "cell_type": "code",
      "metadata": {
        "id": "Bvp4Dio7ptUr",
        "outputId": "d63f4634-ad8d-4956-fd71-72bfd7abb775",
        "colab": {
          "base_uri": "https://localhost:8080/"
        }
      },
      "source": [
        "!sudo apt-get install openjdk-8-jdk-headless -qq > /dev/null\n",
        "!wget -q http://www-eu.apache.org/dist/spark/spark-2.4.8/spark-2.4.8-bin-hadoop2.7.tgz\n",
        "!tar xf spark-2.4.8-bin-hadoop2.7.tgz\n",
        "!pip install -q findspark"
      ],
      "id": "Bvp4Dio7ptUr",
      "execution_count": 8,
      "outputs": [
        {
          "output_type": "stream",
          "text": [
            "debconf: unable to initialize frontend: Dialog\n",
            "debconf: (No usable dialog-like program is installed, so the dialog based frontend cannot be used. at /usr/share/perl5/Debconf/FrontEnd/Dialog.pm line 76, <> line 2.)\n",
            "debconf: falling back to frontend: Readline\n",
            "debconf: unable to initialize frontend: Readline\n",
            "debconf: (This frontend requires a controlling tty.)\n",
            "debconf: falling back to frontend: Teletype\n",
            "dpkg-preconfigure: unable to re-open stdin: \n"
          ],
          "name": "stdout"
        }
      ]
    },
    {
      "cell_type": "markdown",
      "metadata": {
        "id": "aJeCUMC2qCiP"
      },
      "source": [
        "SON algorithm implementation"
      ],
      "id": "aJeCUMC2qCiP"
    },
    {
      "cell_type": "code",
      "metadata": {
        "id": "SckgldjIqF4V"
      },
      "source": [
        "import findspark\n",
        "\n",
        "os.environ['JAVA_HOME']='/usr/lib/jvm/java-8-openjdk-amd64'\n",
        "os.environ['SPARK_HOME']='spark-2.4.8-bin-hadoop2.7'\n",
        "\n",
        "findspark.init()\n",
        "\n",
        "from pyspark.sql import SparkSession\n",
        "import pyspark\n"
      ],
      "id": "SckgldjIqF4V",
      "execution_count": 58,
      "outputs": []
    },
    {
      "cell_type": "code",
      "metadata": {
        "id": "QpZPFU73YplA"
      },
      "source": [
        "spark=SparkSession.builder.master(\"local[*]\").getOrCreate()\n",
        "sc=spark.sparkContext\n",
        "basket_rdd=sc.parallelize(basket_file())\n",
        "support_t=3//basket_rdd.getNumPartitions()\n",
        "res=basket_rdd.mapPartitions(lambda chunk: apriori(chunk,s=support_t,log=True)).collect()"
      ],
      "id": "QpZPFU73YplA",
      "execution_count": 59,
      "outputs": []
    },
    {
      "cell_type": "code",
      "metadata": {
        "id": "N1c0yr6Y5M6e",
        "outputId": "36c2514d-8b30-437d-fc82-c2e199a2678b",
        "colab": {
          "base_uri": "https://localhost:8080/"
        }
      },
      "source": [
        "res"
      ],
      "id": "N1c0yr6Y5M6e",
      "execution_count": 60,
      "outputs": [
        {
          "output_type": "execute_result",
          "data": {
            "text/plain": [
              "[0, 0]"
            ]
          },
          "metadata": {
            "tags": []
          },
          "execution_count": 60
        }
      ]
    }
  ]
}